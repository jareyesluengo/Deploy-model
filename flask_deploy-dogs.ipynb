{
 "cells": [
  {
   "cell_type": "markdown",
   "id": "d404ee12",
   "metadata": {},
   "source": [
    "**01 Library**"
   ]
  },
  {
   "cell_type": "code",
   "execution_count": 1,
   "id": "6b016ee4",
   "metadata": {},
   "outputs": [],
   "source": [
    "from flask import Flask, request\n",
    "from tensorflow.keras.models import load_model\n",
    "import numpy as np"
   ]
  },
  {
   "cell_type": "markdown",
   "id": "53d21a7e",
   "metadata": {},
   "source": [
    "**02 Load Model (dogs vs cats)**"
   ]
  },
  {
   "cell_type": "code",
   "execution_count": 2,
   "id": "c45a00ab",
   "metadata": {},
   "outputs": [],
   "source": [
    "model = load_model('Dogs-vs-Cats_model.h5')"
   ]
  },
  {
   "cell_type": "markdown",
   "id": "e6ea4a6b",
   "metadata": {},
   "source": [
    "**03 Run API**"
   ]
  },
  {
   "cell_type": "code",
   "execution_count": 3,
   "id": "8309f51d",
   "metadata": {},
   "outputs": [
    {
     "name": "stdout",
     "output_type": "stream",
     "text": [
      " * Serving Flask app \"__main__\" (lazy loading)\n",
      " * Environment: production\n",
      "   WARNING: This is a development server. Do not use it in a production deployment.\n",
      "   Use a production WSGI server instead.\n",
      " * Debug mode: off\n"
     ]
    },
    {
     "name": "stderr",
     "output_type": "stream",
     "text": [
      " * Running on http://127.0.0.1:5000/ (Press CTRL+C to quit)\n",
      "127.0.0.1 - - [05/Sep/2021 15:39:34] \"\u001b[37mPOST /model HTTP/1.1\u001b[0m\" 200 -\n",
      "127.0.0.1 - - [05/Sep/2021 15:39:34] \"\u001b[37mPOST /model HTTP/1.1\u001b[0m\" 200 -\n",
      "127.0.0.1 - - [05/Sep/2021 15:39:34] \"\u001b[37mPOST /model HTTP/1.1\u001b[0m\" 200 -\n",
      "127.0.0.1 - - [05/Sep/2021 15:39:35] \"\u001b[37mPOST /model HTTP/1.1\u001b[0m\" 200 -\n",
      "127.0.0.1 - - [05/Sep/2021 15:42:40] \"\u001b[37mPOST /model HTTP/1.1\u001b[0m\" 200 -\n",
      "127.0.0.1 - - [05/Sep/2021 15:42:40] \"\u001b[37mPOST /model HTTP/1.1\u001b[0m\" 200 -\n",
      "127.0.0.1 - - [05/Sep/2021 15:42:40] \"\u001b[37mPOST /model HTTP/1.1\u001b[0m\" 200 -\n",
      "127.0.0.1 - - [05/Sep/2021 15:42:40] \"\u001b[37mPOST /model HTTP/1.1\u001b[0m\" 200 -\n",
      "127.0.0.1 - - [05/Sep/2021 15:42:40] \"\u001b[37mPOST /model HTTP/1.1\u001b[0m\" 200 -\n",
      "127.0.0.1 - - [05/Sep/2021 15:42:41] \"\u001b[37mPOST /model HTTP/1.1\u001b[0m\" 200 -\n",
      "127.0.0.1 - - [05/Sep/2021 15:42:41] \"\u001b[37mPOST /model HTTP/1.1\u001b[0m\" 200 -\n",
      "127.0.0.1 - - [05/Sep/2021 15:42:41] \"\u001b[37mPOST /model HTTP/1.1\u001b[0m\" 200 -\n",
      "127.0.0.1 - - [05/Sep/2021 15:42:41] \"\u001b[37mPOST /model HTTP/1.1\u001b[0m\" 200 -\n",
      "127.0.0.1 - - [05/Sep/2021 15:42:41] \"\u001b[37mPOST /model HTTP/1.1\u001b[0m\" 200 -\n",
      "127.0.0.1 - - [05/Sep/2021 15:42:42] \"\u001b[37mPOST /model HTTP/1.1\u001b[0m\" 200 -\n"
     ]
    }
   ],
   "source": [
    "app = Flask(__name__)\n",
    "@app.route('/model', methods=['POST'])\n",
    "def server_model():\n",
    "    request_data = request.get_json(force=True)\n",
    "    img = request_data['img']\n",
    "    img = np.array(img).reshape(-1, 256, 256, 3)\n",
    "    return  ('The image is {}'.format(['cat', 'dog'][int(model.predict(img)[0][0])]))\n",
    "\n",
    "if __name__ == '__main__':\n",
    "    app.run()"
   ]
  }
 ],
 "metadata": {
  "kernelspec": {
   "display_name": "Python 3",
   "language": "python",
   "name": "python3"
  },
  "language_info": {
   "codemirror_mode": {
    "name": "ipython",
    "version": 3
   },
   "file_extension": ".py",
   "mimetype": "text/x-python",
   "name": "python",
   "nbconvert_exporter": "python",
   "pygments_lexer": "ipython3",
   "version": "3.8.8"
  }
 },
 "nbformat": 4,
 "nbformat_minor": 5
}
