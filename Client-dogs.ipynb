{
 "cells": [
  {
   "cell_type": "markdown",
   "id": "93275ec7",
   "metadata": {},
   "source": [
    "**01 Library**"
   ]
  },
  {
   "cell_type": "code",
   "execution_count": 1,
   "id": "188bd611",
   "metadata": {},
   "outputs": [],
   "source": [
    "import os\n",
    "from os import getcwd\n",
    "import numpy as np\n",
    "from tensorflow.keras.preprocessing.image import ImageDataGenerator, load_img\n",
    "import json\n",
    "import requests"
   ]
  },
  {
   "cell_type": "markdown",
   "id": "1f4cb956",
   "metadata": {},
   "source": [
    "**02 Testing**"
   ]
  },
  {
   "cell_type": "code",
   "execution_count": 2,
   "id": "e36da520",
   "metadata": {},
   "outputs": [
    {
     "name": "stdout",
     "output_type": "stream",
     "text": [
      "Cat_01.jpg The image is cat\n",
      "Cat_02.jpg The image is dog\n",
      "Cat_03.jpg The image is cat\n",
      "Cat_04.jpg The image is cat\n",
      "Cat_05.jpg The image is cat\n",
      "Dog_01.jpg The image is dog\n",
      "Dog_02.jpg The image is cat\n",
      "Dog_03.jpg The image is dog\n",
      "Dog_04.jpg The image is dog\n",
      "Dog_05.jpg The image is dog\n",
      "Dog_06.jpg The image is dog\n"
     ]
    }
   ],
   "source": [
    "uploaded = os.walk(getcwd().replace(\"\\\\\", \"/\") + '/test_dogs/')\n",
    "url = 'http://127.0.0.1:5000/model'\n",
    "\n",
    "for root, dirs, files in uploaded:\n",
    "    for f in files:\n",
    "        path=getcwd().replace(\"\\\\\", \"/\") + '/test_dogs/' + f\n",
    "        img = np.array(load_img(path).resize((256,256))).tolist()\n",
    "        requested_data = json.dumps({'img': img})\n",
    "        response = requests.post(url, requested_data)\n",
    "        print(f, response.text)"
   ]
  }
 ],
 "metadata": {
  "kernelspec": {
   "display_name": "Python 3",
   "language": "python",
   "name": "python3"
  },
  "language_info": {
   "codemirror_mode": {
    "name": "ipython",
    "version": 3
   },
   "file_extension": ".py",
   "mimetype": "text/x-python",
   "name": "python",
   "nbconvert_exporter": "python",
   "pygments_lexer": "ipython3",
   "version": "3.8.8"
  }
 },
 "nbformat": 4,
 "nbformat_minor": 5
}
